{
 "cells": [
  {
   "cell_type": "code",
   "execution_count": 1,
   "id": "b1624f7d-9a06-48bc-955a-50093d873692",
   "metadata": {},
   "outputs": [],
   "source": [
    "from pyspark.sql import SparkSession\n",
    "from pyspark.sql.functions import *\n",
    "import py2neo\n",
    "from pymongo import MongoClient\n",
    "import pandas as pd"
   ]
  },
  {
   "cell_type": "code",
   "execution_count": 2,
   "id": "0a13da2b-7942-4701-9b3a-71abce5df7aa",
   "metadata": {},
   "outputs": [],
   "source": [
    "spark = SparkSession.builder.master(\"local\").getOrCreate()\n",
    "sc = spark.sparkContext"
   ]
  },
  {
   "cell_type": "code",
   "execution_count": 3,
   "id": "1f8782f7-9d6a-4a26-bb83-f42099fffcb4",
   "metadata": {},
   "outputs": [
    {
     "data": {
      "text/html": [
       "<div>\n",
       "<style scoped>\n",
       "    .dataframe tbody tr th:only-of-type {\n",
       "        vertical-align: middle;\n",
       "    }\n",
       "\n",
       "    .dataframe tbody tr th {\n",
       "        vertical-align: top;\n",
       "    }\n",
       "\n",
       "    .dataframe thead th {\n",
       "        text-align: right;\n",
       "    }\n",
       "</style>\n",
       "<table border=\"1\" class=\"dataframe\">\n",
       "  <thead>\n",
       "    <tr style=\"text-align: right;\">\n",
       "      <th></th>\n",
       "      <th>mv.title</th>\n",
       "      <th>mv.released</th>\n",
       "    </tr>\n",
       "  </thead>\n",
       "  <tbody>\n",
       "    <tr>\n",
       "      <th>0</th>\n",
       "      <td>That Thing You Do</td>\n",
       "      <td>1996</td>\n",
       "    </tr>\n",
       "    <tr>\n",
       "      <th>1</th>\n",
       "      <td>That Thing You Do</td>\n",
       "      <td>1996</td>\n",
       "    </tr>\n",
       "  </tbody>\n",
       "</table>\n",
       "</div>"
      ],
      "text/plain": [
       "            mv.title  mv.released\n",
       "0  That Thing You Do         1996\n",
       "1  That Thing You Do         1996"
      ]
     },
     "execution_count": 3,
     "metadata": {},
     "output_type": "execute_result"
    }
   ],
   "source": [
    "graph = py2neo.Graph(\"bolt://host.docker.internal:7687\", auth=(\"italo\", \"italo\"))\n",
    "\n",
    "query = \"MATCH (mv)<-[:ACTED_IN]-(th:Person{name:\\\"Tom Hanks\\\"})-[:DIRECTED]->(mv:Movie) RETURN mv.title, mv.released \"\n",
    "df_neo = graph.run(query).to_data_frame()\n",
    "df_neo"
   ]
  },
  {
   "cell_type": "code",
   "execution_count": 5,
   "id": "29bef10e-c572-4633-a87b-fe85c1cf52aa",
   "metadata": {},
   "outputs": [],
   "source": [
    "# needed for any cluster connection\n",
    "from couchbase.auth import PasswordAuthenticator\n",
    "from couchbase.cluster import Cluster\n",
    "# needed for options -- cluster, timeout, SQL++ (N1QL) query, etc.\n",
    "from couchbase.options import (ClusterOptions, ClusterTimeoutOptions,\n",
    "                               QueryOptions)"
   ]
  },
  {
   "cell_type": "code",
   "execution_count": 14,
   "id": "befeed5f-e5c5-4c2b-87f3-271c877165b0",
   "metadata": {},
   "outputs": [],
   "source": [
    "# Connect options - authentication\n",
    "auth = PasswordAuthenticator('admin', 'admin123')\n",
    "\n",
    "# Get a reference to our cluster\n",
    "# NOTE: For TLS/SSL connection use 'couchbases://<your-ip-address>' instead\n",
    "cluster = Cluster('couchbase://host.docker.internal', ClusterOptions(auth))"
   ]
  },
  {
   "cell_type": "code",
   "execution_count": 15,
   "id": "a3dc7a2e-a529-4678-9ef1-f6e58c09f12e",
   "metadata": {},
   "outputs": [],
   "source": [
    "cb = cluster.bucket('travel-sample')\n",
    "cb_coll = cb.scope(\"inventory\").collection(\"airline\")"
   ]
  },
  {
   "cell_type": "code",
   "execution_count": 17,
   "id": "986961df-0aac-40a5-9de8-05dc86a9191b",
   "metadata": {},
   "outputs": [
    {
     "name": "stdout",
     "output_type": "stream",
     "text": [
      "{'id': 10, 'type': 'airline', 'name': '40-Mile Air', 'iata': 'Q5', 'icao': 'MLA', 'callsign': 'MILE-AIR', 'country': 'United States'}\n"
     ]
    }
   ],
   "source": [
    "result = cb_coll.get(\"airline_10\")\n",
    "print(result.content_as[str])"
   ]
  },
  {
   "cell_type": "code",
   "execution_count": 44,
   "id": "00026bbb-bae8-4b0c-acf8-e2c8a98f92d0",
   "metadata": {},
   "outputs": [],
   "source": [
    "sql_query = 'SELECT * FROM `travel-sample`.inventory.airline WHERE country = \\'United States\\''\n",
    "row_iter = cluster.query(sql_query)\n",
    "result = list(row_iter)"
   ]
  },
  {
   "cell_type": "code",
   "execution_count": 53,
   "id": "79994f98-faa5-4b73-a664-0e4257d54dd8",
   "metadata": {},
   "outputs": [],
   "source": [
    "df = pd.DataFrame([row['airline'] for row in result])"
   ]
  },
  {
   "cell_type": "code",
   "execution_count": 54,
   "id": "f7b50ec3-bfd1-4600-8fc5-9a9895b1e6c9",
   "metadata": {},
   "outputs": [
    {
     "name": "stdout",
     "output_type": "stream",
     "text": [
      "+-----------+-------------+----+----+-----+--------------------+-------+\n",
      "|   callsign|      country|iata|icao|   id|                name|   type|\n",
      "+-----------+-------------+----+----+-----+--------------------+-------+\n",
      "|   MILE-AIR|United States|  Q5| MLA|   10|         40-Mile Air|airline|\n",
      "|        TXW|United States|  TQ| TXW|10123|         Texas Wings|airline|\n",
      "|     atifly|United States|  A1| A1F|10226|              Atifly|airline|\n",
      "|     LOCAIR|United States|  ZQ| LOC|10748|              Locair|airline|\n",
      "|  SASQUATCH|United States|  K5| SQH|10765|    SeaPort Airlines|airline|\n",
      "|    ACE AIR|United States|  KO| AER|  109|Alaska Central Ex...|airline|\n",
      "|     CITRUS|United States|  FL| TRS| 1316|     AirTran Airways|airline|\n",
      "|       null|United States|  -+| --+|13391|            U.S. Air|airline|\n",
      "|       null|United States|  WQ| PQW|13633| PanAm World Airways|airline|\n",
      "|    BEMIDJI|United States|  CH| BMJ| 1442|    Bemidji Airlines|airline|\n",
      "| BERING AIR|United States|  8E| BRG| 1472|          Bering Air|airline|\n",
      "|NIGHT CARGO|United States|  2Q| SNC|  149|  Air Cargo Carriers|airline|\n",
      "|     AIRMAX|United States|null| XBM|15887|         CBM America|airline|\n",
      "|   Stallion|United States|  BZ| BSA|15975|Black Stallion Ai...|airline|\n",
      "|       null|United States|  T6| TP6|16264|       Trans Pas Air|airline|\n",
      "|       CAIR|United States|  9K| KAP| 1629|            Cape Air|airline|\n",
      "|       USKY|United States|  E1| ES2|16702|       Usa Sky Cargo|airline|\n",
      "|       ERAH|United States|  7H| ERR|16726|          Era Alaska|airline|\n",
      "|       null|United States|  H1| HA1|16735|      Hankook Air US|airline|\n",
      "|      Orbit|United States|null| OBT|16932|      Orbit Airlines|airline|\n",
      "+-----------+-------------+----+----+-----+--------------------+-------+\n",
      "only showing top 20 rows\n",
      "\n"
     ]
    }
   ],
   "source": [
    "df_spark2 = spark.createDataFrame(df)\n",
    "df_spark2.show()"
   ]
  },
  {
   "cell_type": "code",
   "execution_count": 55,
   "id": "b0176931-a365-4ee3-8dc8-7a10b04e926b",
   "metadata": {},
   "outputs": [
    {
     "name": "stdout",
     "output_type": "stream",
     "text": [
      "+-------------+-----------+\n",
      "|      country|   callsign|\n",
      "+-------------+-----------+\n",
      "|United States|   MILE-AIR|\n",
      "|United States|        TXW|\n",
      "|United States|     atifly|\n",
      "|United States|     LOCAIR|\n",
      "|United States|  SASQUATCH|\n",
      "|United States|    ACE AIR|\n",
      "|United States|     CITRUS|\n",
      "|United States|       null|\n",
      "|United States|       null|\n",
      "|United States|    BEMIDJI|\n",
      "|United States| BERING AIR|\n",
      "|United States|NIGHT CARGO|\n",
      "|United States|     AIRMAX|\n",
      "|United States|   Stallion|\n",
      "|United States|       null|\n",
      "|United States|       CAIR|\n",
      "|United States|       USKY|\n",
      "|United States|       ERAH|\n",
      "|United States|       null|\n",
      "|United States|      Orbit|\n",
      "+-------------+-----------+\n",
      "only showing top 20 rows\n",
      "\n"
     ]
    }
   ],
   "source": [
    "df_spark2.select(col('country'), col('callsign')).show()"
   ]
  },
  {
   "cell_type": "code",
   "execution_count": 13,
   "id": "df4ec9ee-bfa6-4580-b661-1790274bb928",
   "metadata": {},
   "outputs": [
    {
     "name": "stdout",
     "output_type": "stream",
     "text": [
      "+-----------------+-----------+\n",
      "|         mv.title|mv.released|\n",
      "+-----------------+-----------+\n",
      "|That Thing You Do|       1996|\n",
      "|That Thing You Do|       1996|\n",
      "+-----------------+-----------+\n",
      "\n"
     ]
    }
   ],
   "source": [
    "df_spark = spark.createDataFrame(df_neo)\n",
    "df_spark.show()"
   ]
  },
  {
   "cell_type": "code",
   "execution_count": 14,
   "id": "1894b57b-af76-430e-84b5-a473d9559673",
   "metadata": {},
   "outputs": [
    {
     "name": "stdout",
     "output_type": "stream",
     "text": [
      "+-----------------+-----------+--------+\n",
      "|         mv.title|mv.released|add_year|\n",
      "+-----------------+-----------+--------+\n",
      "|That Thing You Do|       1996|    1997|\n",
      "|That Thing You Do|       1996|    1997|\n",
      "+-----------------+-----------+--------+\n",
      "\n"
     ]
    }
   ],
   "source": [
    "df_spark = df_spark.withColumn('add_year', col('`mv.released`') + 1)\n",
    "df_spark.show()"
   ]
  },
  {
   "cell_type": "code",
   "execution_count": 15,
   "id": "6f267b7a-53d4-44b8-b32c-b31e0d2eb3f4",
   "metadata": {},
   "outputs": [
    {
     "name": "stdout",
     "output_type": "stream",
     "text": [
      "+-----------------+-------------+\n",
      "|         mv.title|sum(add_year)|\n",
      "+-----------------+-------------+\n",
      "|That Thing You Do|         3994|\n",
      "+-----------------+-------------+\n",
      "\n"
     ]
    }
   ],
   "source": [
    "df_spark.groupBy('`mv.title`').sum('add_year').show()"
   ]
  },
  {
   "cell_type": "code",
   "execution_count": null,
   "id": "7a80f134-e0af-4f72-8e14-086a67875070",
   "metadata": {},
   "outputs": [],
   "source": []
  }
 ],
 "metadata": {
  "kernelspec": {
   "display_name": "Python 3 (ipykernel)",
   "language": "python",
   "name": "python3"
  },
  "language_info": {
   "codemirror_mode": {
    "name": "ipython",
    "version": 3
   },
   "file_extension": ".py",
   "mimetype": "text/x-python",
   "name": "python",
   "nbconvert_exporter": "python",
   "pygments_lexer": "ipython3",
   "version": "3.10.5"
  }
 },
 "nbformat": 4,
 "nbformat_minor": 5
}
