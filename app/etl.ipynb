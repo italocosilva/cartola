{
 "cells": [
  {
   "cell_type": "code",
   "execution_count": 1,
   "id": "ff4fd818-33bd-4f2f-ab8e-8f0fe58765e4",
   "metadata": {},
   "outputs": [
    {
     "name": "stderr",
     "output_type": "stream",
     "text": [
      "WARNING:root:'PYARROW_IGNORE_TIMEZONE' environment variable was not set. It is required to set this environment variable to '1' in both driver and executor sides if you use pyarrow>=2.0.0. pandas-on-Spark will set it for you but it does not work if there is a Spark context already launched.\n"
     ]
    }
   ],
   "source": [
    "from utils import *"
   ]
  },
  {
   "cell_type": "markdown",
   "id": "e2f71c7c-f8fa-4d82-94b9-d533dddfb0ec",
   "metadata": {
    "tags": []
   },
   "source": [
    "## Spark"
   ]
  },
  {
   "cell_type": "code",
   "execution_count": 2,
   "id": "7bbf258a-5c5c-4194-a7af-789b58d34200",
   "metadata": {},
   "outputs": [
    {
     "name": "stdout",
     "output_type": "stream",
     "text": [
      "-RECORD 0---------------------------\n",
      " atleta_id               | 69012    \n",
      " rodada_id               | 4        \n",
      " posicao_id              | gol      \n",
      " status_id               | 6        \n",
      " pontos                  | 0        \n",
      " preco                   | 11       \n",
      " preco_variacao          | 0        \n",
      " pontos_media            | 0        \n",
      " jogos                   | 0        \n",
      " minimo_para_valorizar   | NA       \n",
      " jogador                 | Santos   \n",
      " clube                   | Flamengo \n",
      " defesas                 | NA       \n",
      " jogos_sem_sofrer_gol    | NA       \n",
      " gols_sofridos           | NA       \n",
      " cartoes_amarelos        | NA       \n",
      " finalizacoes_defendidas | NA       \n",
      " finalizacoes_fora       | NA       \n",
      " faltas_sofridas         | NA       \n",
      " gols                    | NA       \n",
      " impedimentos            | NA       \n",
      " passes_incompletos      | NA       \n",
      " desarmes                | NA       \n",
      " faltas_cometidas        | NA       \n",
      " assistencias            | NA       \n",
      " cartoes_vermelhos       | NA       \n",
      " finalizacoes_trave      | NA       \n",
      " penaltis_perdidos       | NA       \n",
      " gols_contra             | NA       \n",
      " penaltis_sofridos       | NA       \n",
      " penaltis_cometidos      | NA       \n",
      "only showing top 1 row\n",
      "\n"
     ]
    }
   ],
   "source": [
    "df = carregar_rodada(4)\n",
    "df.show(1, vertical=True)"
   ]
  },
  {
   "cell_type": "code",
   "execution_count": 3,
   "id": "59dc158a-2bc6-413a-9ebb-afb23300d4af",
   "metadata": {},
   "outputs": [
    {
     "data": {
      "text/plain": [
       "752"
      ]
     },
     "execution_count": 3,
     "metadata": {},
     "output_type": "execute_result"
    }
   ],
   "source": [
    "df.count()"
   ]
  },
  {
   "cell_type": "markdown",
   "id": "8118aeff-1989-42e3-889c-524267eb6498",
   "metadata": {
    "tags": []
   },
   "source": [
    "## Couchbase"
   ]
  },
  {
   "cell_type": "code",
   "execution_count": 4,
   "id": "508703e6-d19f-48b9-aa21-29a053ee1878",
   "metadata": {},
   "outputs": [],
   "source": [
    "upload_couchbase(df)"
   ]
  },
  {
   "cell_type": "code",
   "execution_count": 5,
   "id": "47c6b8d2-ff10-48f1-a335-0168aba0a7b4",
   "metadata": {},
   "outputs": [
    {
     "data": {
      "text/html": [
       "<div>\n",
       "<style scoped>\n",
       "    .dataframe tbody tr th:only-of-type {\n",
       "        vertical-align: middle;\n",
       "    }\n",
       "\n",
       "    .dataframe tbody tr th {\n",
       "        vertical-align: top;\n",
       "    }\n",
       "\n",
       "    .dataframe thead th {\n",
       "        text-align: right;\n",
       "    }\n",
       "</style>\n",
       "<table border=\"1\" class=\"dataframe\">\n",
       "  <thead>\n",
       "    <tr style=\"text-align: right;\">\n",
       "      <th></th>\n",
       "      <th>jogador</th>\n",
       "      <th>pontos</th>\n",
       "      <th>atleta_id</th>\n",
       "      <th>rodada_id</th>\n",
       "    </tr>\n",
       "  </thead>\n",
       "  <tbody>\n",
       "    <tr>\n",
       "      <th>0</th>\n",
       "      <td>Rickson</td>\n",
       "      <td>-0.8</td>\n",
       "      <td>100002</td>\n",
       "      <td>2</td>\n",
       "    </tr>\n",
       "    <tr>\n",
       "      <th>1</th>\n",
       "      <td>Rickson</td>\n",
       "      <td>-0.1</td>\n",
       "      <td>100002</td>\n",
       "      <td>3</td>\n",
       "    </tr>\n",
       "    <tr>\n",
       "      <th>2</th>\n",
       "      <td>Rickson</td>\n",
       "      <td>0</td>\n",
       "      <td>100002</td>\n",
       "      <td>4</td>\n",
       "    </tr>\n",
       "    <tr>\n",
       "      <th>3</th>\n",
       "      <td>Jhojan Julio</td>\n",
       "      <td>1.1</td>\n",
       "      <td>100074</td>\n",
       "      <td>2</td>\n",
       "    </tr>\n",
       "    <tr>\n",
       "      <th>4</th>\n",
       "      <td>Jhojan Julio</td>\n",
       "      <td>1.8</td>\n",
       "      <td>100074</td>\n",
       "      <td>3</td>\n",
       "    </tr>\n",
       "  </tbody>\n",
       "</table>\n",
       "</div>"
      ],
      "text/plain": [
       "        jogador pontos atleta_id rodada_id\n",
       "0       Rickson   -0.8    100002         2\n",
       "1       Rickson   -0.1    100002         3\n",
       "2       Rickson      0    100002         4\n",
       "3  Jhojan Julio    1.1    100074         2\n",
       "4  Jhojan Julio    1.8    100074         3"
      ]
     },
     "execution_count": 5,
     "metadata": {},
     "output_type": "execute_result"
    }
   ],
   "source": [
    "ds = query_couchbase('SELECT meta().id, jogador, pontos FROM cartola.cartola.atletas')\n",
    "ds.head()"
   ]
  },
  {
   "cell_type": "code",
   "execution_count": 6,
   "id": "fe2ba8ff-82fd-46b9-9201-1a82671d0f3b",
   "metadata": {},
   "outputs": [
    {
     "data": {
      "text/html": [
       "<div>\n",
       "<style scoped>\n",
       "    .dataframe tbody tr th:only-of-type {\n",
       "        vertical-align: middle;\n",
       "    }\n",
       "\n",
       "    .dataframe tbody tr th {\n",
       "        vertical-align: top;\n",
       "    }\n",
       "\n",
       "    .dataframe thead th {\n",
       "        text-align: right;\n",
       "    }\n",
       "</style>\n",
       "<table border=\"1\" class=\"dataframe\">\n",
       "  <thead>\n",
       "    <tr style=\"text-align: right;\">\n",
       "      <th></th>\n",
       "      <th>jogador</th>\n",
       "      <th>pontos</th>\n",
       "    </tr>\n",
       "  </thead>\n",
       "  <tbody>\n",
       "    <tr>\n",
       "      <th>0</th>\n",
       "      <td>Rickson</td>\n",
       "      <td>-0.8</td>\n",
       "    </tr>\n",
       "    <tr>\n",
       "      <th>1</th>\n",
       "      <td>Rickson</td>\n",
       "      <td>-0.1</td>\n",
       "    </tr>\n",
       "    <tr>\n",
       "      <th>2</th>\n",
       "      <td>Rickson</td>\n",
       "      <td>0</td>\n",
       "    </tr>\n",
       "    <tr>\n",
       "      <th>3</th>\n",
       "      <td>Jhojan Julio</td>\n",
       "      <td>1.1</td>\n",
       "    </tr>\n",
       "    <tr>\n",
       "      <th>4</th>\n",
       "      <td>Jhojan Julio</td>\n",
       "      <td>1.8</td>\n",
       "    </tr>\n",
       "  </tbody>\n",
       "</table>\n",
       "</div>"
      ],
      "text/plain": [
       "        jogador pontos\n",
       "0       Rickson   -0.8\n",
       "1       Rickson   -0.1\n",
       "2       Rickson      0\n",
       "3  Jhojan Julio    1.1\n",
       "4  Jhojan Julio    1.8"
      ]
     },
     "execution_count": 6,
     "metadata": {},
     "output_type": "execute_result"
    }
   ],
   "source": [
    "ds2 = query_couchbase('SELECT jogador, pontos FROM cartola.cartola.atletas')\n",
    "ds2.head()"
   ]
  },
  {
   "cell_type": "code",
   "execution_count": 7,
   "id": "44e2aec7-4e92-4c59-947c-5091187be46f",
   "metadata": {},
   "outputs": [
    {
     "data": {
      "text/html": [
       "<div>\n",
       "<style scoped>\n",
       "    .dataframe tbody tr th:only-of-type {\n",
       "        vertical-align: middle;\n",
       "    }\n",
       "\n",
       "    .dataframe tbody tr th {\n",
       "        vertical-align: top;\n",
       "    }\n",
       "\n",
       "    .dataframe thead th {\n",
       "        text-align: right;\n",
       "    }\n",
       "</style>\n",
       "<table border=\"1\" class=\"dataframe\">\n",
       "  <thead>\n",
       "    <tr style=\"text-align: right;\">\n",
       "      <th></th>\n",
       "      <th>qtd</th>\n",
       "    </tr>\n",
       "  </thead>\n",
       "  <tbody>\n",
       "    <tr>\n",
       "      <th>0</th>\n",
       "      <td>2244</td>\n",
       "    </tr>\n",
       "  </tbody>\n",
       "</table>\n",
       "</div>"
      ],
      "text/plain": [
       "    qtd\n",
       "0  2244"
      ]
     },
     "execution_count": 7,
     "metadata": {},
     "output_type": "execute_result"
    }
   ],
   "source": [
    "ds3 = query_couchbase('SELECT count(*) AS qtd FROM cartola.cartola.atletas')\n",
    "ds3.head()"
   ]
  },
  {
   "cell_type": "code",
   "execution_count": null,
   "id": "97c3d2d3-1e50-4b6d-890e-7b3e54b8f86d",
   "metadata": {},
   "outputs": [],
   "source": []
  }
 ],
 "metadata": {
  "kernelspec": {
   "display_name": "Python 3 (ipykernel)",
   "language": "python",
   "name": "python3"
  },
  "language_info": {
   "codemirror_mode": {
    "name": "ipython",
    "version": 3
   },
   "file_extension": ".py",
   "mimetype": "text/x-python",
   "name": "python",
   "nbconvert_exporter": "python",
   "pygments_lexer": "ipython3",
   "version": "3.10.5"
  }
 },
 "nbformat": 4,
 "nbformat_minor": 5
}
